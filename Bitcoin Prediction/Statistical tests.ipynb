{
 "cells": [
  {
   "cell_type": "code",
   "execution_count": 31,
   "id": "288bb3fc",
   "metadata": {},
   "outputs": [],
   "source": [
    "#Created by Ricardo Manjarrez "
   ]
  },
  {
   "cell_type": "markdown",
   "id": "ccfb34a9",
   "metadata": {},
   "source": [
    "This Notebook is designed for develop statistics test in the time series."
   ]
  },
  {
   "cell_type": "code",
   "execution_count": 1,
   "id": "2e86b374",
   "metadata": {},
   "outputs": [],
   "source": [
    "\n",
    "df=pd.read_csv('Bitcoin2020.csv')\n"
   ]
  },
  {
   "cell_type": "code",
   "execution_count": 2,
   "id": "52070816",
   "metadata": {},
   "outputs": [
    {
     "data": {
      "text/html": [
       "<div>\n",
       "<style scoped>\n",
       "    .dataframe tbody tr th:only-of-type {\n",
       "        vertical-align: middle;\n",
       "    }\n",
       "\n",
       "    .dataframe tbody tr th {\n",
       "        vertical-align: top;\n",
       "    }\n",
       "\n",
       "    .dataframe thead th {\n",
       "        text-align: right;\n",
       "    }\n",
       "</style>\n",
       "<table border=\"1\" class=\"dataframe\">\n",
       "  <thead>\n",
       "    <tr style=\"text-align: right;\">\n",
       "      <th></th>\n",
       "      <th>unix</th>\n",
       "      <th>date</th>\n",
       "      <th>symbol</th>\n",
       "      <th>open</th>\n",
       "      <th>high</th>\n",
       "      <th>low</th>\n",
       "      <th>close</th>\n",
       "      <th>Volume BTC</th>\n",
       "      <th>Volume USD</th>\n",
       "    </tr>\n",
       "  </thead>\n",
       "  <tbody>\n",
       "    <tr>\n",
       "      <th>0</th>\n",
       "      <td>1609459140</td>\n",
       "      <td>12/31/2020 23:59</td>\n",
       "      <td>BTC/USD</td>\n",
       "      <td>28982.44</td>\n",
       "      <td>29024.59</td>\n",
       "      <td>28969.83</td>\n",
       "      <td>28992.79</td>\n",
       "      <td>5.897679</td>\n",
       "      <td>170990.18290</td>\n",
       "    </tr>\n",
       "    <tr>\n",
       "      <th>1</th>\n",
       "      <td>1609459080</td>\n",
       "      <td>12/31/2020 23:58</td>\n",
       "      <td>BTC/USD</td>\n",
       "      <td>29044.79</td>\n",
       "      <td>29048.62</td>\n",
       "      <td>29000.12</td>\n",
       "      <td>29000.12</td>\n",
       "      <td>20.362289</td>\n",
       "      <td>590508.83780</td>\n",
       "    </tr>\n",
       "    <tr>\n",
       "      <th>2</th>\n",
       "      <td>1609459020</td>\n",
       "      <td>12/31/2020 23:57</td>\n",
       "      <td>BTC/USD</td>\n",
       "      <td>29039.53</td>\n",
       "      <td>29048.63</td>\n",
       "      <td>29023.26</td>\n",
       "      <td>29044.79</td>\n",
       "      <td>14.503728</td>\n",
       "      <td>421257.72150</td>\n",
       "    </tr>\n",
       "    <tr>\n",
       "      <th>3</th>\n",
       "      <td>1609458960</td>\n",
       "      <td>12/31/2020 23:56</td>\n",
       "      <td>BTC/USD</td>\n",
       "      <td>29052.02</td>\n",
       "      <td>29059.42</td>\n",
       "      <td>29039.28</td>\n",
       "      <td>29039.53</td>\n",
       "      <td>2.707583</td>\n",
       "      <td>78626.92585</td>\n",
       "    </tr>\n",
       "    <tr>\n",
       "      <th>4</th>\n",
       "      <td>1609458900</td>\n",
       "      <td>12/31/2020 23:55</td>\n",
       "      <td>BTC/USD</td>\n",
       "      <td>29036.10</td>\n",
       "      <td>29052.02</td>\n",
       "      <td>29025.78</td>\n",
       "      <td>29052.02</td>\n",
       "      <td>7.631439</td>\n",
       "      <td>221708.70540</td>\n",
       "    </tr>\n",
       "  </tbody>\n",
       "</table>\n",
       "</div>"
      ],
      "text/plain": [
       "         unix              date   symbol      open      high       low  \\\n",
       "0  1609459140  12/31/2020 23:59  BTC/USD  28982.44  29024.59  28969.83   \n",
       "1  1609459080  12/31/2020 23:58  BTC/USD  29044.79  29048.62  29000.12   \n",
       "2  1609459020  12/31/2020 23:57  BTC/USD  29039.53  29048.63  29023.26   \n",
       "3  1609458960  12/31/2020 23:56  BTC/USD  29052.02  29059.42  29039.28   \n",
       "4  1609458900  12/31/2020 23:55  BTC/USD  29036.10  29052.02  29025.78   \n",
       "\n",
       "      close  Volume BTC    Volume USD  \n",
       "0  28992.79    5.897679  170990.18290  \n",
       "1  29000.12   20.362289  590508.83780  \n",
       "2  29044.79   14.503728  421257.72150  \n",
       "3  29039.53    2.707583   78626.92585  \n",
       "4  29052.02    7.631439  221708.70540  "
      ]
     },
     "execution_count": 2,
     "metadata": {},
     "output_type": "execute_result"
    }
   ],
   "source": [
    "df.head()"
   ]
  },
  {
   "cell_type": "code",
   "execution_count": 7,
   "id": "84376435",
   "metadata": {},
   "outputs": [],
   "source": [
    "df['date'] = pd.to_datetime(df['date'])\n",
    "df.set_index('date', inplace=True)"
   ]
  },
  {
   "cell_type": "markdown",
   "id": "2e46c8f5",
   "metadata": {},
   "source": [
    "## Time series plot "
   ]
  },
  {
   "cell_type": "code",
   "execution_count": 8,
   "id": "64d20760",
   "metadata": {},
   "outputs": [
    {
     "data": {
      "image/png": "[encoded data removed]",
      "text/plain": [
       "<Figure size 432x288 with 1 Axes>"
      ]
     },
     "metadata": {
      "needs_background": "light"
     },
     "output_type": "display_data"
    }
   ],
   "source": [
    "\n",
    "y = df['close']\n",
    "plt.plot(df.index, y, label='y')\n",
    "plt.xlabel('Date')\n",
    "plt.ylabel('y_test')\n",
    "plt.title('Plot of y_test over Time')\n",
    "plt.legend()\n",
    "plt.show()"
   ]
  },
  {
   "cell_type": "markdown",
   "id": "06d434be",
   "metadata": {},
   "source": [
    "## Partial autocorrelation and autocorrelation function (plots) "
   ]
  },
  {
   "cell_type": "code",
   "execution_count": 29,
   "id": "97fb54f4",
   "metadata": {},
   "outputs": [
    {
     "data": {
      "text/plain": [
       "<Figure size 864x432 with 0 Axes>"
      ]
     },
     "metadata": {},
     "output_type": "display_data"
    },
    {
     "data": {
      "image/png": "[encoded data removed]",
      "text/plain": [
       "<Figure size 432x288 with 1 Axes>"
      ]
     },
     "metadata": {
      "needs_background": "light"
     },
     "output_type": "display_data"
    },
    {
     "data": {
      "text/plain": [
       "<Figure size 864x432 with 0 Axes>"
      ]
     },
     "metadata": {},
     "output_type": "display_data"
    },
    {
     "data": {
      "image/png": "[encoded data removed]",
      "text/plain": [
       "<Figure size 432x288 with 1 Axes>"
      ]
     },
     "metadata": {
      "needs_background": "light"
     },
     "output_type": "display_data"
    }
   ],
   "source": [
    "import pandas as pd\n",
    "import matplotlib.pyplot as plt\n",
    "from statsmodels.graphics.tsaplots import plot_acf, plot_pacf\n",
    "\n",
    "\n",
    "# (ACF)\n",
    "plt.figure(figsize=(12, 6))\n",
    "plot_acf(df['close'], lags=50, alpha=0.05)\n",
    "plt.title('Autocorrelation Function (ACF) of Bitcoin Close Price')\n",
    "plt.xlabel('Lag')\n",
    "plt.ylabel('Autocorrelation')\n",
    "plt.grid(True)\n",
    "plt.show()\n",
    "\n",
    "# Plot (PACF)\n",
    "plt.figure(figsize=(12, 6))\n",
    "plot_pacf(df['close'], lags=50, alpha=0.05)\n",
    "plt.title('Partial Autocorrelation Function (PACF) of Bitcoin Close Price')\n",
    "plt.xlabel('Lag')\n",
    "plt.ylabel('Partial Autocorrelation')\n",
    "plt.grid(True)\n",
    "plt.show()\n"
   ]
  },
  {
   "cell_type": "markdown",
   "id": "11f3cd0d",
   "metadata": {},
   "source": [
    "## Augmented Dickey-Fuller (ADF)  "
   ]
  },
  {
   "cell_type": "code",
   "execution_count": 30,
   "id": "089883d7",
   "metadata": {},
   "outputs": [
    {
     "name": "stdout",
     "output_type": "stream",
     "text": [
      "ADF Test for Close Price:\n",
      "ADF Statistic: -6.8290508162081505\n",
      "p-value: 1.914484757710833e-09\n",
      "Critical Values:\n",
      "\t1%: -3.4303634106082233\n",
      "\t5%: -2.861545927330655\n",
      "\t10%: -2.5667731549016466\n"
     ]
    }
   ],
   "source": [
    "import pandas as pd\n",
    "from statsmodels.tsa.stattools import adfuller\n",
    "\n",
    "\n",
    "# ADF test\n",
    "def adf_test(timeseries):\n",
    "    # Perform Dickey-Fuller test\n",
    "    result = adfuller(timeseries, autolag='AIC')\n",
    "    print('ADF Statistic:', result[0])\n",
    "    print('p-value:', result[1])\n",
    "    print('Critical Values:')\n",
    "    for key, value in result[4].items():\n",
    "        print(f'\\t{key}: {value}')\n",
    "\n",
    "\n",
    "print('ADF Test for Close Price:')\n",
    "adf_test(df['close'])\n"
   ]
  },
  {
   "cell_type": "code",
   "execution_count": null,
   "id": "4713b2a1",
   "metadata": {},
   "outputs": [],
   "source": []
  }
 ],
 "metadata": {
  "kernelspec": {
   "display_name": "Python 3 (ipykernel)",
   "language": "python",
   "name": "python3"
  },
  "language_info": {
   "codemirror_mode": {
    "name": "ipython",
    "version": 3
   },
   "file_extension": ".py",
   "mimetype": "text/x-python",
   "name": "python",
   "nbconvert_exporter": "python",
   "pygments_lexer": "ipython3",
   "version": "3.9.7"
  }
 },
 "nbformat": 4,
 "nbformat_minor": 5
}
